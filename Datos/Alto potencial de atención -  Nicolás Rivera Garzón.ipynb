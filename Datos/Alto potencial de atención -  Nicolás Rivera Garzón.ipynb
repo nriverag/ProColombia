{
 "cells": [
  {
   "cell_type": "markdown",
   "metadata": {},
   "source": [
    "**Proceso de selección para el cargo de analista en la Coordinación de Analítica de ProColombia**"
   ]
  },
  {
   "cell_type": "markdown",
   "metadata": {},
   "source": [
    "# Empresas con alto potencial de atención: Vicepresidencia de Exportaciones"
   ]
  },
  {
   "cell_type": "markdown",
   "metadata": {},
   "source": [
    "## Autor"
   ]
  },
  {
   "cell_type": "markdown",
   "metadata": {},
   "source": [
    "Nicolás Rivera Garzón, nicolas.riveragr@gmail.com"
   ]
  },
  {
   "cell_type": "markdown",
   "metadata": {},
   "source": [
    "## Contenido\n",
    "* [1. Objetivo](#Objetivo)\n",
    "* [2. Metodología](#Metodología)\n",
    "* [3. Exploración de datos](#Exploración_de_datos)\n",
    "* [4. Algoritmo K-Medias](#Algoritmo_K_Medias)"
   ]
  },
  {
   "cell_type": "markdown",
   "metadata": {},
   "source": [
    "## 1. Objetivo <a name=\"Objetivo\"></a> "
   ]
  },
  {
   "cell_type": "markdown",
   "metadata": {},
   "source": [
    "Identificar las empresas que tienen un alto potencial de atención en ProColombia con alta probabilidad de convertirse en exportadoras"
   ]
  },
  {
   "cell_type": "markdown",
   "metadata": {},
   "source": [
    "## 2. Metodología <a name=\"Metodología\"></a> "
   ]
  },
  {
   "cell_type": "markdown",
   "metadata": {},
   "source": [
    "Se realizará el siguiente proceso: \n",
    "1. Importación de datos desde un directorio que se puede cambiar fácilmente para replicar datos.\n",
    "2. Análisis exploratorio de datos para encontrar puntos relevantes y características de la base de datos.\n",
    "3. Construcción del modelo K-medias para encontrar los clientes con potencial a ser atendidos por Procolombia.\n",
    "4. Exportación de la información de los clientes a formato Excel. "
   ]
  },
  {
   "cell_type": "markdown",
   "metadata": {},
   "source": [
    "## 3. Exploración de datos <a name=\"Exploración_de_datos\"></a>"
   ]
  },
  {
   "cell_type": "code",
   "execution_count": 1,
   "metadata": {},
   "outputs": [
    {
     "data": {
      "text/plain": [
       "'C:\\\\Users\\\\Nicolás Rivera\\\\OneDrive\\\\Escritorio\\\\Procolombia\\\\Datos'"
      ]
     },
     "execution_count": 1,
     "metadata": {},
     "output_type": "execute_result"
    }
   ],
   "source": [
    "# Cambiar el directorio de trabajo al lugar donde estén los datos\n",
    "import os\n",
    "\n",
    "# Nuevo directorio\n",
    "data_directory = 'C:\\\\Users\\\\Nicolás Rivera\\\\OneDrive\\\\Escritorio\\\\Procolombia\\\\Datos'\n",
    "os.chdir(data_directory)\n",
    "\n",
    "# El sigueinte es el directorio donde se realiza la prueba\n",
    "os.getcwd() "
   ]
  },
  {
   "cell_type": "code",
   "execution_count": 2,
   "metadata": {},
   "outputs": [],
   "source": [
    "## Cargue de librerías\n",
    "import pandas as pd\n",
    "import numpy as np\n",
    "import matplotlib.pyplot as plt\n",
    "import math\n",
    "import tqdm as notebook_tqdm\n",
    "import seaborn as sns\n",
    "from sklearn.cluster import KMeans\n",
    "from sklearn.preprocessing import OneHotEncoder\n",
    "from sklearn.compose import ColumnTransformer\n",
    "from sklearn.preprocessing import StandardScaler\n",
    "\n",
    "# Localizar el codo de K means (pip install kneed)\n",
    "from kneed import KneeLocator\n",
    "\n",
    "## Param\n",
    "pd.set_option('display.float_format', '{:.2f}'.format)"
   ]
  },
  {
   "cell_type": "code",
   "execution_count": 3,
   "metadata": {},
   "outputs": [
    {
     "name": "stderr",
     "output_type": "stream",
     "text": [
      "C:\\Users\\Nicolás Rivera\\AppData\\Local\\Temp\\ipykernel_12472\\851905697.py:5: DtypeWarning: Columns (5) have mixed types. Specify dtype option on import or set low_memory=False.\n",
      "  rues = pd.read_csv('RUES.txt', sep='|', decimal=',', encoding='utf-8')\n"
     ]
    }
   ],
   "source": [
    "# Importar datos\n",
    "exportaciones = pd.read_csv('Exportaciones.txt', sep='|', decimal=',', encoding='utf-8')\n",
    "dane = pd.read_csv('Directorio_DANE.txt', sep='|', decimal=',', encoding='utf-8')\n",
    "super_sociedades = pd.read_csv('Supersociedades.txt', sep='|', decimal=',', encoding='utf-8')\n",
    "rues = pd.read_csv('RUES.txt', sep='|', decimal=',', encoding='utf-8')\n",
    "\n",
    "# Agregar una columna Fuente a cada DataFrame\n",
    "exportaciones['Fuente'] = 'Exportaciones'\n",
    "dane['Fuente'] = 'Directorio DANE'\n",
    "super_sociedades['Fuente'] = 'Super Sociedades'\n",
    "rues['Fuente'] = 'RUES'"
   ]
  },
  {
   "cell_type": "code",
   "execution_count": 4,
   "metadata": {},
   "outputs": [],
   "source": [
    "# Crear una sola base de datos\n",
    "df = pd.concat([exportaciones, dane, super_sociedades, rues], ignore_index=True)"
   ]
  },
  {
   "cell_type": "code",
   "execution_count": 5,
   "metadata": {},
   "outputs": [],
   "source": [
    "# Hay 80050 clientes duplicados, se deben eliminar solo para tener clientes únicos\n",
    "df = df.drop_duplicates(subset='NIT', keep='first')"
   ]
  },
  {
   "cell_type": "code",
   "execution_count": 6,
   "metadata": {},
   "outputs": [
    {
     "data": {
      "text/plain": [
       "False"
      ]
     },
     "execution_count": 6,
     "metadata": {},
     "output_type": "execute_result"
    }
   ],
   "source": [
    "# ¿Hay nits nulos?\n",
    "df['NIT'].isnull().any()"
   ]
  },
  {
   "cell_type": "code",
   "execution_count": 7,
   "metadata": {},
   "outputs": [
    {
     "name": "stdout",
     "output_type": "stream",
     "text": [
      "Información sobre valores nulos por columna:\n",
      "                            Columna  Valores Nulos  Porcentaje de Nulos\n",
      "26                   Var. Expo 2022          48959                97.92\n",
      "27             TCAC expo ult 5 años          48843                97.69\n",
      "25             Expo prom ult 5 años          46727                93.45\n",
      "24                        Expo 2022          46727                93.45\n",
      "14               Antigüedad empresa           8335                16.67\n",
      "9                           Activos           8296                16.59\n",
      "0                               NIT              0                 0.00\n",
      "17              Sector* ult 10 años              0                 0.00\n",
      "29              Cadena segmentación              0                 0.00\n",
      "28                 Trayectoria expo              0                 0.00\n",
      "23           Expo Latam ult 10 años              0                 0.00\n",
      "22        Departamento* ult 10 años              0                 0.00\n",
      "21   Cod. Departamento* ult 10 años              0                 0.00\n",
      "20  Descripcion posara* ult 10 años              0                 0.00\n",
      "19              Posara* ult 10 años              0                 0.00\n",
      "18           Subsector* ult 10 años              0                 0.00\n",
      "15                Tipo* ult 10 años              0                 0.00\n",
      "16              Cadena* ult 10 años              0                 0.00\n",
      "1                        Cod. Depto              0                 0.00\n",
      "13       País domicilio casa matriz              0                 0.00\n",
      "12     Sucursal sociedad extranjera              0                 0.00\n",
      "11              Tamaño empresa RUES              0                 0.00\n",
      "10           Ingresos operacionales              0                 0.00\n",
      "8            Valor agregado empresa              0                 0.00\n",
      "7             Cadena CIIU principal              0                 0.00\n",
      "6        Descripción CIIU principal              0                 0.00\n",
      "5              CIIU Rev 4 principal              0                 0.00\n",
      "4                         Municipio              0                 0.00\n",
      "3                    Cod. Municipio              0                 0.00\n",
      "2                      Departamento              0                 0.00\n",
      "30                           Fuente              0                 0.00\n"
     ]
    }
   ],
   "source": [
    "# Nulos en las demás columnas\n",
    "# Verificar valores nulos en todas las columnas y calcular el porcentaje\n",
    "nulos_por_columna = df.isnull().sum()\n",
    "porcentaje_nulos_por_columna = (nulos_por_columna / len(df)) * 100\n",
    "\n",
    "# Crear un DataFrame para mostrar los resultados\n",
    "info_nulos = pd.DataFrame({\n",
    "    'Columna': nulos_por_columna.index,\n",
    "    'Valores Nulos': nulos_por_columna.values,\n",
    "    'Porcentaje de Nulos': porcentaje_nulos_por_columna.values\n",
    "})\n",
    "\n",
    "# Mostrar el resultado ordenado por el porcentaje de nulos de mayor a menor\n",
    "info_nulos = info_nulos.sort_values(by='Porcentaje de Nulos', ascending=False)\n",
    "print(\"Información sobre valores nulos por columna:\")\n",
    "print(info_nulos)"
   ]
  },
  {
   "cell_type": "markdown",
   "metadata": {},
   "source": [
    "Los valores se incorporan en el análisis ya que no se deben imputar porque no hay otra fuente confiable. Además cuando una empresa tiene variables relacioandas con exportaciones vacias signfica que no tiene un gran potencial exportador. "
   ]
  },
  {
   "cell_type": "code",
   "execution_count": 8,
   "metadata": {},
   "outputs": [
    {
     "data": {
      "text/plain": [
       "Index(['NIT', 'Cod. Depto', 'Departamento', 'Cod. Municipio', 'Municipio',\n",
       "       'CIIU Rev 4 principal', 'Descripción CIIU principal',\n",
       "       'Cadena CIIU principal', 'Valor agregado empresa', 'Activos',\n",
       "       'Ingresos operacionales', 'Tamaño empresa RUES',\n",
       "       'Sucursal sociedad extranjera', 'País domicilio casa matriz',\n",
       "       'Antigüedad empresa', 'Tipo* ult 10 años', 'Cadena* ult 10 años',\n",
       "       'Sector* ult 10 años', 'Subsector* ult 10 años', 'Posara* ult 10 años',\n",
       "       'Descripcion posara* ult 10 años', 'Cod. Departamento* ult 10 años',\n",
       "       'Departamento* ult 10 años', 'Expo Latam ult 10 años', 'Expo 2022',\n",
       "       'Expo prom ult 5 años', 'Var. Expo 2022', 'TCAC expo ult 5 años',\n",
       "       'Trayectoria expo', 'Cadena segmentación', 'Fuente'],\n",
       "      dtype='object')"
      ]
     },
     "execution_count": 8,
     "metadata": {},
     "output_type": "execute_result"
    }
   ],
   "source": [
    "df.columns"
   ]
  },
  {
   "cell_type": "code",
   "execution_count": 9,
   "metadata": {},
   "outputs": [
    {
     "name": "stdout",
     "output_type": "stream",
     "text": [
      "Valores únicos por columna:\n",
      "NIT                                50000\n",
      "Cod. Depto                            63\n",
      "Departamento                          34\n",
      "Cod. Municipio                      1067\n",
      "Municipio                            861\n",
      "CIIU Rev 4 principal                 536\n",
      "Descripción CIIU principal           298\n",
      "Cadena CIIU principal                 12\n",
      "Valor agregado empresa                11\n",
      "Activos                            22996\n",
      "Ingresos operacionales             20756\n",
      "Tamaño empresa RUES                    5\n",
      "Sucursal sociedad extranjera           3\n",
      "País domicilio casa matriz            12\n",
      "Antigüedad empresa                  7174\n",
      "Tipo* ult 10 años                      3\n",
      "Cadena* ult 10 años                    8\n",
      "Sector* ult 10 años                   56\n",
      "Subsector* ult 10 años               199\n",
      "Posara* ult 10 años                 1211\n",
      "Descripcion posara* ult 10 años     1210\n",
      "Cod. Departamento* ult 10 años        28\n",
      "Departamento* ult 10 años             28\n",
      "Expo Latam ult 10 años                 2\n",
      "Expo 2022                           1038\n",
      "Expo prom ult 5 años                1956\n",
      "Var. Expo 2022                       768\n",
      "TCAC expo ult 5 años                 612\n",
      "Trayectoria expo                       5\n",
      "Cadena segmentación                    5\n",
      "Fuente                                 3\n",
      "dtype: int64\n"
     ]
    }
   ],
   "source": [
    "# Valores únicos por columna\n",
    "valores_unicos_por_columna = df.nunique()\n",
    "\n",
    "# Mostrar los valores únicos por columna\n",
    "print(\"Valores únicos por columna:\")\n",
    "print(valores_unicos_por_columna)"
   ]
  },
  {
   "cell_type": "code",
   "execution_count": 10,
   "metadata": {},
   "outputs": [
    {
     "name": "stdout",
     "output_type": "stream",
     "text": [
      "           NIT          Activos  Ingresos operacionales  Antigüedad empresa  \\\n",
      "count 50000.00         41704.00                50000.00            41665.00   \n",
      "mean  24999.50    2930534340.67           2740929174.35                7.50   \n",
      "std   14433.90   39008897978.74          65661919360.04                8.08   \n",
      "min       0.00             0.00                   -1.00                0.00   \n",
      "25%   12499.75       6000000.00                    0.00                2.20   \n",
      "50%   24999.50      36351760.00              1000000.00                5.12   \n",
      "75%   37499.25     349787140.75            268271743.25                9.65   \n",
      "max   49999.00 3447215000000.00       12589678554000.00               74.87   \n",
      "\n",
      "         Expo 2022  Expo prom ult 5 años  Var. Expo 2022  TCAC expo ult 5 años  \n",
      "count      3273.00               3273.00         1041.00               1157.00  \n",
      "mean     904319.51             700759.01          230.42                -37.63  \n",
      "std     9315071.88            6795130.26         4111.44                 80.33  \n",
      "min           0.00                  0.00         -100.00               -100.00  \n",
      "25%           0.00                  0.00         -100.00               -100.00  \n",
      "50%           0.00               1914.00           -9.01                -45.22  \n",
      "75%       14368.68              27456.00           52.00                  5.83  \n",
      "max   328325803.04          207811496.32       128454.30               1054.62  \n"
     ]
    }
   ],
   "source": [
    "# Estadísticas descriptivas\n",
    "stats_descriptivas = df.describe()\n",
    "print(stats_descriptivas)"
   ]
  },
  {
   "cell_type": "code",
   "execution_count": 11,
   "metadata": {},
   "outputs": [
    {
     "name": "stdout",
     "output_type": "stream",
     "text": [
      "                         Activos                                 \\\n",
      "                           count            mean            min   \n",
      "Trayectoria expo                                                  \n",
      "Mineras, chatarra, otros       2  23321067500.00 12358224000.00   \n",
      "No Constante                  22  15041910722.14    26869432.00   \n",
      "Pymex                        173  39916787083.54    10500000.00   \n",
      "Top                           38 271535772763.16 12261582000.00   \n",
      "\n",
      "                                          Ingresos operacionales  \\\n",
      "                                      max                  count   \n",
      "Trayectoria expo                                                   \n",
      "Mineras, chatarra, otros   34283911000.00                      2   \n",
      "No Constante               56405715000.00                     22   \n",
      "Pymex                     679847697000.00                    173   \n",
      "Top                      1283131574000.00                     38   \n",
      "\n",
      "                                                                          \\\n",
      "                                    mean            min              max   \n",
      "Trayectoria expo                                                           \n",
      "Mineras, chatarra, otros  20808596500.00 12750491000.00   28866702000.00   \n",
      "No Constante              13388577123.59   255538348.00   43952932000.00   \n",
      "Pymex                     55673058004.42   122644356.00 1689955736000.00   \n",
      "Top                      293244780315.79        1000.00 1347147915000.00   \n",
      "\n",
      "                         Antigüedad empresa        ... Expo prom ult 5 años  \\\n",
      "                                      count  mean  ...                  min   \n",
      "Trayectoria expo                                   ...                        \n",
      "Mineras, chatarra, otros                  2 37.49  ...             27359.61   \n",
      "No Constante                             22 22.95  ...              3154.10   \n",
      "Pymex                                   173 20.47  ...             11832.55   \n",
      "Top                                      38 25.52  ...           2107844.48   \n",
      "\n",
      "                                      Var. Expo 2022                         \\\n",
      "                                  max          count    mean   min      max   \n",
      "Trayectoria expo                                                              \n",
      "Mineras, chatarra, otros     76321.70              2   17.35  6.54    28.17   \n",
      "No Constante                160344.89             22 2488.45 24.06 29313.62   \n",
      "Pymex                      5323678.26            173  134.15  0.09  2093.53   \n",
      "Top                      186153691.70             38   45.49  1.54   493.31   \n",
      "\n",
      "                         TCAC expo ult 5 años                     \n",
      "                                        count  mean   min    max  \n",
      "Trayectoria expo                                                  \n",
      "Mineras, chatarra, otros                    2 22.10 19.82  24.38  \n",
      "No Constante                               22 53.05  2.30 179.47  \n",
      "Pymex                                     173 47.42  0.09 686.91  \n",
      "Top                                        38 49.79  1.52 467.78  \n",
      "\n",
      "[4 rows x 28 columns]\n"
     ]
    }
   ],
   "source": [
    "# Estadísticas descriptivas por trayectoria export\n",
    "# Lista de columnas a considerar\n",
    "columnas_a_considerar = ['Activos', 'Ingresos operacionales', 'Antigüedad empresa', 'Expo 2022', 'Expo prom ult 5 años', 'Var. Expo 2022', 'TCAC expo ult 5 años']\n",
    "\n",
    "# Convertir las columnas seleccionadas a números\n",
    "df[columnas_a_considerar] = df[columnas_a_considerar].apply(pd.to_numeric, errors='coerce')\n",
    "\n",
    "# Filtrar observaciones mayores a 0 en todas las columnas numéricas\n",
    "df_filtrado_positivos = df[(df[columnas_a_considerar] > 0).all(axis=1)]\n",
    "\n",
    "# Estadísticas descriptivas por Trayectoria expo\n",
    "stats_descriptivas_por_trayectoria_expo = df_filtrado_positivos.groupby('Trayectoria expo')[columnas_a_considerar].agg(['count', 'mean', 'min', 'max'])\n",
    "\n",
    "# Mostrar las estadísticas descriptivas agrupadas por Trayectoria expo\n",
    "print(stats_descriptivas_por_trayectoria_expo)"
   ]
  },
  {
   "cell_type": "code",
   "execution_count": 12,
   "metadata": {},
   "outputs": [
    {
     "name": "stdout",
     "output_type": "stream",
     "text": [
      "                       Activos                                              \\\n",
      "                         count           mean         min              max   \n",
      "Expo Latam ult 10 años                                                       \n",
      "No                          14 22377258138.57 10500000.00  222874368000.00   \n",
      "Si                         221 78227357861.53 15020000.00 1283131574000.00   \n",
      "\n",
      "                       Ingresos operacionales                              \\\n",
      "                                        count           mean          min   \n",
      "Expo Latam ult 10 años                                                      \n",
      "No                                         14 42714528365.14 316590000.00   \n",
      "Si                                        221 92818566422.50      1000.00   \n",
      "\n",
      "                                        Antigüedad empresa        ...  \\\n",
      "                                    max              count  mean  ...   \n",
      "Expo Latam ult 10 años                                            ...   \n",
      "No                      395893882000.00                 14 15.69  ...   \n",
      "Si                     1689955736000.00                221 22.04  ...   \n",
      "\n",
      "                       Expo prom ult 5 años              Var. Expo 2022  \\\n",
      "                                        min          max          count   \n",
      "Expo Latam ult 10 años                                                    \n",
      "No                                 30892.39  53551223.42             14   \n",
      "Si                                  3154.10 186153691.70            221   \n",
      "\n",
      "                                            TCAC expo ult 5 años             \\\n",
      "                         mean  min      max                count  mean  min   \n",
      "Expo Latam ult 10 años                                                        \n",
      "No                     225.67 0.25  2742.36                   14 24.71 0.09   \n",
      "Si                     346.42 0.09 29313.62                  221 49.60 0.42   \n",
      "\n",
      "                               \n",
      "                          max  \n",
      "Expo Latam ult 10 años         \n",
      "No                      82.71  \n",
      "Si                     686.91  \n",
      "\n",
      "[2 rows x 28 columns]\n"
     ]
    }
   ],
   "source": [
    "# Estadísticas descriptivas por exportación a latam en los últimos 10 años\n",
    "# Lista de columnas a considerar\n",
    "columnas_a_considerar = ['Activos', 'Ingresos operacionales', 'Antigüedad empresa', 'Expo 2022', 'Expo prom ult 5 años', 'Var. Expo 2022', 'TCAC expo ult 5 años']\n",
    "\n",
    "# Convertir las columnas seleccionadas a números\n",
    "df[columnas_a_considerar] = df[columnas_a_considerar].apply(pd.to_numeric, errors='coerce')\n",
    "\n",
    "# Filtrar observaciones mayores a 0 en todas las columnas numéricas\n",
    "df_filtrado_positivos = df[(df[columnas_a_considerar] > 0).all(axis=1)]\n",
    "\n",
    "# Estadísticas descriptivas por Trayectoria expo\n",
    "stats_descriptivas_por_expolatam = df_filtrado_positivos.groupby('Expo Latam ult 10 años')[columnas_a_considerar].agg(['count', 'mean', 'min', 'max'])\n",
    "\n",
    "# Mostrar las estadísticas descriptivas agrupadas por Trayectoria expo\n",
    "print(stats_descriptivas_por_expolatam)"
   ]
  },
  {
   "cell_type": "code",
   "execution_count": 13,
   "metadata": {},
   "outputs": [
    {
     "data": {
      "image/png": "[encoded data removed]",
      "text/plain": [
       "<Figure size 1000x600 with 1 Axes>"
      ]
     },
     "metadata": {},
     "output_type": "display_data"
    }
   ],
   "source": [
    "# Número de empresas exportadoras por departamento\n",
    "# Filtrar los datos para incluir solo aquellos con 'Expo Latam ult 10 años' igual a 'si'\n",
    "exportaciones_si = df[df['Expo Latam ult 10 años'] == 'Si']\n",
    "\n",
    "# Filtrar los datos para excluir el departamento 'No determinado'\n",
    "exportaciones_si = exportaciones_si[exportaciones_si['Departamento'] != 'No determinado']\n",
    "\n",
    "# Contar el número de NIT por departamento\n",
    "nit_por_departamento = exportaciones_si.groupby('Departamento')['NIT'].nunique()\n",
    "\n",
    "# Seleccionar los top 5 departamentos\n",
    "top_departamentos = nit_por_departamento.nlargest(10)\n",
    "\n",
    "# Crear un gráfico de barras\n",
    "plt.figure(figsize=(10, 6))\n",
    "bar_plot = sns.barplot(x=top_departamentos.values, y=top_departamentos.index)\n",
    "\n",
    "# Agregar etiquetas\n",
    "plt.xlabel('Número de empresas')\n",
    "plt.ylabel('')\n",
    "plt.title('Departamentos con más empresas exportadoras')\n",
    "# Agregar etiquetas de valores sobre las columnas\n",
    "for index, value in enumerate(top_departamentos):\n",
    "    bar_plot.text(value, index, str(value), ha='left', va='center')\n",
    "\n",
    "# Guardar gráfico\n",
    "# Crear una carpeta llamada 'graficos' si no existe\n",
    "if not os.path.exists('Resultados'): os.makedirs('Resultados')\n",
    "plt.tight_layout()\n",
    "plt.savefig('Resultados\\Empresas_por_Dept.png', dpi=300)"
   ]
  },
  {
   "cell_type": "code",
   "execution_count": 14,
   "metadata": {},
   "outputs": [
    {
     "data": {
      "image/png": "[encoded data removed]",
      "text/plain": [
       "<Figure size 1000x600 with 1 Axes>"
      ]
     },
     "metadata": {},
     "output_type": "display_data"
    }
   ],
   "source": [
    "# Número de empresas exportadoras por actividad económica principal\n",
    "# Filtrar los datos para incluir solo aquellos con 'Expo Latam ult 10 años' igual a 'si'\n",
    "exportaciones_si = df[df['Expo Latam ult 10 años'] == 'Si']\n",
    "\n",
    "# Filtrar los datos para excluir la actividad 'No determinado'\n",
    "exportaciones_si = exportaciones_si[exportaciones_si['Cadena CIIU principal'] != 'No determinado']\n",
    "\n",
    "# Contar el número de NIT por actividad\n",
    "nit_por_actividad = exportaciones_si.groupby('Cadena CIIU principal')['NIT'].nunique()\n",
    "\n",
    "# Seleccionar los top 5 actividades\n",
    "top_actividad = nit_por_actividad.nlargest(10)\n",
    "\n",
    "# Crear un gráfico de barras\n",
    "plt.figure(figsize=(10, 6))\n",
    "bar_plot = sns.barplot(x=top_actividad.values, y=top_actividad.index)\n",
    "\n",
    "# Agregar etiquetas\n",
    "plt.xlabel('Número de empresas')\n",
    "plt.ylabel('')\n",
    "plt.title('CIIU Procolombia con más empresas exportadoras')\n",
    "# Agregar etiquetas de valores sobre las columnas\n",
    "for index, value in enumerate(top_actividad):\n",
    "    bar_plot.text(value, index, str(value), ha='left', va='center')\n",
    "\n",
    "# Guardar gráfico\n",
    "plt.tight_layout()\n",
    "plt.savefig('Resultados\\Empresas_por_actividad.png', dpi=300)"
   ]
  },
  {
   "cell_type": "markdown",
   "metadata": {},
   "source": [
    "## 4. Algoritmo K-Medias <a name=\"Algoritmo_K_Medias\"></a>"
   ]
  },
  {
   "cell_type": "code",
   "execution_count": 15,
   "metadata": {},
   "outputs": [
    {
     "name": "stdout",
     "output_type": "stream",
     "text": [
      "Valores únicos en la columna \"Cadena segmentación\":\n",
      "['Agroalimentos' 'Sistema Moda' 'Químicos y Ciencias de la Vida'\n",
      " 'Industrias 4.0' 'Metalmecánica y Otras Industrias']\n",
      "\n",
      "Valores únicos en la columna \"Trayectoria expo\":\n",
      "['Futuros' 'No Constante' 'Mineras, chatarra, otros' 'Top' 'Pymex']\n",
      "\n",
      "Valores únicos en la columna \"Expo Latam ult 10 años\":\n",
      "['Si' 'No']\n",
      "\n",
      "Valores únicos en la columna \"Tipo* ult 10 años\":\n",
      "['No Mineras' 'Mineras' 'No exportó ult. 10 años']\n",
      "\n",
      "Valores únicos en la columna \"Cadena CIIU principal\":\n",
      "['No determinado' 'Sistema Moda' 'Químicos y Ciencias de la Vida'\n",
      " 'Industrias 4.0' 'Agroalimentos' 'CIIU no aplica categoría ProColombia'\n",
      " 'Metalmecánica y Otras Industrias' 'Infraestructura ' 'Turismo'\n",
      " 'Logística ' 'Mineras' 'Logística e Infraestructura ']\n",
      "\n"
     ]
    }
   ],
   "source": [
    "# Valores únicos para variables de segmentación\n",
    "columnas = ['Cadena segmentación', 'Trayectoria expo', 'Expo Latam ult 10 años', 'Tipo* ult 10 años', 'Cadena CIIU principal']\n",
    "\n",
    "for columna in columnas:\n",
    "    valores_unicos = df[columna].unique()\n",
    "    \n",
    "    print(f'Valores únicos en la columna \"{columna}\":\\n{valores_unicos}\\n')"
   ]
  },
  {
   "cell_type": "code",
   "execution_count": 16,
   "metadata": {},
   "outputs": [
    {
     "data": {
      "text/html": [
       "<div>\n",
       "<style scoped>\n",
       "    .dataframe tbody tr th:only-of-type {\n",
       "        vertical-align: middle;\n",
       "    }\n",
       "\n",
       "    .dataframe tbody tr th {\n",
       "        vertical-align: top;\n",
       "    }\n",
       "\n",
       "    .dataframe thead th {\n",
       "        text-align: right;\n",
       "    }\n",
       "</style>\n",
       "<table border=\"1\" class=\"dataframe\">\n",
       "  <thead>\n",
       "    <tr style=\"text-align: right;\">\n",
       "      <th></th>\n",
       "      <th>NIT</th>\n",
       "      <th>Cadena segmentación</th>\n",
       "      <th>Trayectoria expo</th>\n",
       "      <th>Expo Latam ult 10 años</th>\n",
       "      <th>Tipo* ult 10 años</th>\n",
       "      <th>Cadena CIIU principal</th>\n",
       "    </tr>\n",
       "  </thead>\n",
       "  <tbody>\n",
       "    <tr>\n",
       "      <th>0</th>\n",
       "      <td>10</td>\n",
       "      <td>Agroalimentos</td>\n",
       "      <td>Futuros</td>\n",
       "      <td>Si</td>\n",
       "      <td>No Mineras</td>\n",
       "      <td>No determinado</td>\n",
       "    </tr>\n",
       "    <tr>\n",
       "      <th>1</th>\n",
       "      <td>45</td>\n",
       "      <td>Sistema Moda</td>\n",
       "      <td>Futuros</td>\n",
       "      <td>Si</td>\n",
       "      <td>No Mineras</td>\n",
       "      <td>Sistema Moda</td>\n",
       "    </tr>\n",
       "    <tr>\n",
       "      <th>2</th>\n",
       "      <td>56</td>\n",
       "      <td>Sistema Moda</td>\n",
       "      <td>Futuros</td>\n",
       "      <td>No</td>\n",
       "      <td>No Mineras</td>\n",
       "      <td>No determinado</td>\n",
       "    </tr>\n",
       "    <tr>\n",
       "      <th>3</th>\n",
       "      <td>60</td>\n",
       "      <td>Químicos y Ciencias de la Vida</td>\n",
       "      <td>Futuros</td>\n",
       "      <td>Si</td>\n",
       "      <td>No Mineras</td>\n",
       "      <td>Químicos y Ciencias de la Vida</td>\n",
       "    </tr>\n",
       "    <tr>\n",
       "      <th>4</th>\n",
       "      <td>75</td>\n",
       "      <td>Industrias 4.0</td>\n",
       "      <td>Futuros</td>\n",
       "      <td>No</td>\n",
       "      <td>No Mineras</td>\n",
       "      <td>Industrias 4.0</td>\n",
       "    </tr>\n",
       "    <tr>\n",
       "      <th>5</th>\n",
       "      <td>137</td>\n",
       "      <td>Agroalimentos</td>\n",
       "      <td>No Constante</td>\n",
       "      <td>No</td>\n",
       "      <td>No Mineras</td>\n",
       "      <td>Agroalimentos</td>\n",
       "    </tr>\n",
       "    <tr>\n",
       "      <th>6</th>\n",
       "      <td>143</td>\n",
       "      <td>Agroalimentos</td>\n",
       "      <td>No Constante</td>\n",
       "      <td>No</td>\n",
       "      <td>No Mineras</td>\n",
       "      <td>Agroalimentos</td>\n",
       "    </tr>\n",
       "    <tr>\n",
       "      <th>7</th>\n",
       "      <td>182</td>\n",
       "      <td>Metalmecánica y Otras Industrias</td>\n",
       "      <td>Futuros</td>\n",
       "      <td>Si</td>\n",
       "      <td>No Mineras</td>\n",
       "      <td>CIIU no aplica categoría ProColombia</td>\n",
       "    </tr>\n",
       "    <tr>\n",
       "      <th>8</th>\n",
       "      <td>183</td>\n",
       "      <td>Agroalimentos</td>\n",
       "      <td>Futuros</td>\n",
       "      <td>Si</td>\n",
       "      <td>No Mineras</td>\n",
       "      <td>No determinado</td>\n",
       "    </tr>\n",
       "    <tr>\n",
       "      <th>9</th>\n",
       "      <td>206</td>\n",
       "      <td>Metalmecánica y Otras Industrias</td>\n",
       "      <td>Futuros</td>\n",
       "      <td>Si</td>\n",
       "      <td>No Mineras</td>\n",
       "      <td>No determinado</td>\n",
       "    </tr>\n",
       "  </tbody>\n",
       "</table>\n",
       "</div>"
      ],
      "text/plain": [
       "   NIT               Cadena segmentación Trayectoria expo  \\\n",
       "0   10                     Agroalimentos          Futuros   \n",
       "1   45                      Sistema Moda          Futuros   \n",
       "2   56                      Sistema Moda          Futuros   \n",
       "3   60    Químicos y Ciencias de la Vida          Futuros   \n",
       "4   75                    Industrias 4.0          Futuros   \n",
       "5  137                     Agroalimentos     No Constante   \n",
       "6  143                     Agroalimentos     No Constante   \n",
       "7  182  Metalmecánica y Otras Industrias          Futuros   \n",
       "8  183                     Agroalimentos          Futuros   \n",
       "9  206  Metalmecánica y Otras Industrias          Futuros   \n",
       "\n",
       "  Expo Latam ult 10 años Tipo* ult 10 años  \\\n",
       "0                     Si        No Mineras   \n",
       "1                     Si        No Mineras   \n",
       "2                     No        No Mineras   \n",
       "3                     Si        No Mineras   \n",
       "4                     No        No Mineras   \n",
       "5                     No        No Mineras   \n",
       "6                     No        No Mineras   \n",
       "7                     Si        No Mineras   \n",
       "8                     Si        No Mineras   \n",
       "9                     Si        No Mineras   \n",
       "\n",
       "                  Cadena CIIU principal  \n",
       "0                        No determinado  \n",
       "1                          Sistema Moda  \n",
       "2                        No determinado  \n",
       "3        Químicos y Ciencias de la Vida  \n",
       "4                        Industrias 4.0  \n",
       "5                         Agroalimentos  \n",
       "6                         Agroalimentos  \n",
       "7  CIIU no aplica categoría ProColombia  \n",
       "8                        No determinado  \n",
       "9                        No determinado  "
      ]
     },
     "execution_count": 16,
     "metadata": {},
     "output_type": "execute_result"
    }
   ],
   "source": [
    "columnas_para_segmentación = ['NIT','Cadena segmentación', 'Trayectoria expo', 'Expo Latam ult 10 años', 'Tipo* ult 10 años', 'Cadena CIIU principal']\n",
    "df_seg = df[columnas_para_segmentación].copy()\n",
    "df_seg.head(10)"
   ]
  },
  {
   "cell_type": "code",
   "execution_count": 17,
   "metadata": {},
   "outputs": [
    {
     "data": {
      "text/plain": [
       "Index(['NIT', 'Cadena segmentación', 'Trayectoria expo',\n",
       "       'Expo Latam ult 10 años', 'Tipo* ult 10 años', 'Cadena CIIU principal'],\n",
       "      dtype='object')"
      ]
     },
     "execution_count": 17,
     "metadata": {},
     "output_type": "execute_result"
    }
   ],
   "source": [
    "df_seg.columns"
   ]
  },
  {
   "cell_type": "code",
   "execution_count": 18,
   "metadata": {},
   "outputs": [
    {
     "name": "stderr",
     "output_type": "stream",
     "text": [
      "C:\\ProgramData\\Anaconda3\\envs\\mientorno\\lib\\site-packages\\sklearn\\preprocessing\\_encoders.py:975: FutureWarning: `sparse` was renamed to `sparse_output` in version 1.2 and will be removed in 1.4. `sparse_output` is ignored unless you leave `sparse` to its default value.\n",
      "  warnings.warn(\n"
     ]
    }
   ],
   "source": [
    "# Eliminar filas con valores nulos si es necesario\n",
    "df_seg = df_seg.dropna()\n",
    "\n",
    "# Seleccionar solo las columnas categóricas para la segmentación\n",
    "columnas_categoricas = df_seg.select_dtypes(include=['object']).columns\n",
    "df_categorical = df_seg[columnas_categoricas]\n",
    "\n",
    "# Convertir las columnas categóricas a tipo 'str' si no lo están\n",
    "df_categorical = df_categorical.astype(str)\n",
    "\n",
    "# Aplicar codificación one-hot\n",
    "encoder = OneHotEncoder(sparse=False, drop='first')\n",
    "df_encoded = encoder.fit_transform(df_categorical)\n",
    "\n",
    "# Concatenar los datos codificados con las variables originales y eliminar nan\n",
    "df_final = pd.concat([df_seg, pd.DataFrame(df_encoded, columns=encoder.get_feature_names_out(columnas_categoricas))], axis=1)\n",
    "df_final = df_final.dropna()\n",
    "\n",
    "# Seleccionar solo las columnas codificadas para la segmentación\n",
    "columnas_codificadas = df_final.select_dtypes(include=['float64', 'int64']).columns\n",
    "df_encoded_only = df_final[columnas_codificadas]\n",
    "\n",
    "# Normalizar los datos\n",
    "df_scaled = StandardScaler().fit_transform(df_encoded_only)"
   ]
  },
  {
   "cell_type": "code",
   "execution_count": 19,
   "metadata": {},
   "outputs": [],
   "source": [
    "# Determinar el número óptimo de clusters usando el método del codo\n",
    "inertia = []\n",
    "for i in range(1, 20):\n",
    "    kmeans = KMeans(n_clusters=i, n_init=10, random_state=42)  # Establecer explícitamente n_init\n",
    "    kmeans.fit(df_scaled)\n",
    "    inertia.append(kmeans.inertia_)"
   ]
  },
  {
   "cell_type": "code",
   "execution_count": 20,
   "metadata": {},
   "outputs": [
    {
     "data": {
      "image/png": "[encoded data removed]",
      "text/plain": [
       "<Figure size 640x480 with 1 Axes>"
      ]
     },
     "metadata": {},
     "output_type": "display_data"
    },
    {
     "name": "stdout",
     "output_type": "stream",
     "text": [
      "Número óptimo de clústeres: 5\n"
     ]
    }
   ],
   "source": [
    "# Encontrar el codo automáticamente\n",
    "knee_locator = KneeLocator(range(1, 20), inertia, curve='convex', direction='decreasing')\n",
    "optimal_k = knee_locator.elbow\n",
    "\n",
    "# Graficar el método del codo con el codo marcado\n",
    "plt.plot(range(1, 20), inertia, marker='o')\n",
    "plt.xlabel('Número de Clusters')\n",
    "plt.ylabel('Suma de las distancias al cuadrado')\n",
    "plt.title('Método del Codo')\n",
    "plt.vlines(optimal_k, plt.ylim()[0], plt.ylim()[1], linestyles='dashed', colors='red', label='Número Óptimo de Clusters')\n",
    "plt.legend()\n",
    "plt.savefig('Resultados\\Método_del_codo.png', dpi=300)\n",
    "plt.show()\n",
    "\n",
    "# Imprimir el número óptimo de clústeres\n",
    "print(\"Número óptimo de clústeres:\", optimal_k)"
   ]
  },
  {
   "cell_type": "code",
   "execution_count": 21,
   "metadata": {
    "scrolled": true
   },
   "outputs": [],
   "source": [
    "# Elegir el número óptimo de clusters\n",
    "numero_clusters = 5\n",
    "\n",
    "# Aplicar K-medias con el número óptimo de clusters\n",
    "kmeans = KMeans(n_clusters=numero_clusters, random_state=42, n_init=10)\n",
    "df_final['Cluster'] = kmeans.fit_predict(df_scaled)\n",
    "\n",
    "# Visualizar los resultados\n",
    "df_final = df_final[['NIT','Cluster']]"
   ]
  },
  {
   "cell_type": "code",
   "execution_count": 22,
   "metadata": {},
   "outputs": [],
   "source": [
    "# Crear base de datos final con cluster\n",
    "df_full = pd.merge(df, df_final[['NIT', 'Cluster']], on='NIT', how='left')"
   ]
  },
  {
   "cell_type": "code",
   "execution_count": 23,
   "metadata": {},
   "outputs": [],
   "source": [
    "# Base de posibles clientes\n",
    "df_filtered = df_full[(df_full['Expo Latam ult 10 años'] == 'Si') & (~df_full['Cluster'].isnull())]"
   ]
  },
  {
   "cell_type": "code",
   "execution_count": 24,
   "metadata": {},
   "outputs": [
    {
     "data": {
      "text/html": [
       "<div>\n",
       "<style scoped>\n",
       "    .dataframe tbody tr th:only-of-type {\n",
       "        vertical-align: middle;\n",
       "    }\n",
       "\n",
       "    .dataframe tbody tr th {\n",
       "        vertical-align: top;\n",
       "    }\n",
       "\n",
       "    .dataframe thead th {\n",
       "        text-align: right;\n",
       "    }\n",
       "</style>\n",
       "<table border=\"1\" class=\"dataframe\">\n",
       "  <thead>\n",
       "    <tr style=\"text-align: right;\">\n",
       "      <th></th>\n",
       "      <th>NIT</th>\n",
       "      <th>Cod. Depto</th>\n",
       "      <th>Departamento</th>\n",
       "      <th>Cod. Municipio</th>\n",
       "      <th>Municipio</th>\n",
       "      <th>CIIU Rev 4 principal</th>\n",
       "      <th>Descripción CIIU principal</th>\n",
       "      <th>Cadena CIIU principal</th>\n",
       "      <th>Valor agregado empresa</th>\n",
       "      <th>Activos</th>\n",
       "      <th>...</th>\n",
       "      <th>Departamento* ult 10 años</th>\n",
       "      <th>Expo Latam ult 10 años</th>\n",
       "      <th>Expo 2022</th>\n",
       "      <th>Expo prom ult 5 años</th>\n",
       "      <th>Var. Expo 2022</th>\n",
       "      <th>TCAC expo ult 5 años</th>\n",
       "      <th>Trayectoria expo</th>\n",
       "      <th>Cadena segmentación</th>\n",
       "      <th>Fuente</th>\n",
       "      <th>Cluster</th>\n",
       "    </tr>\n",
       "  </thead>\n",
       "  <tbody>\n",
       "    <tr>\n",
       "      <th>0</th>\n",
       "      <td>10</td>\n",
       "      <td>No determinado</td>\n",
       "      <td>No determinado</td>\n",
       "      <td>No determinado</td>\n",
       "      <td>No determinado</td>\n",
       "      <td>No determinado</td>\n",
       "      <td>No determinado</td>\n",
       "      <td>No determinado</td>\n",
       "      <td>No determinado</td>\n",
       "      <td>NaN</td>\n",
       "      <td>...</td>\n",
       "      <td>Atlántico</td>\n",
       "      <td>Si</td>\n",
       "      <td>0.00</td>\n",
       "      <td>22680.00</td>\n",
       "      <td>NaN</td>\n",
       "      <td>NaN</td>\n",
       "      <td>Futuros</td>\n",
       "      <td>Agroalimentos</td>\n",
       "      <td>Exportaciones</td>\n",
       "      <td>3.00</td>\n",
       "    </tr>\n",
       "    <tr>\n",
       "      <th>1</th>\n",
       "      <td>45</td>\n",
       "      <td>5</td>\n",
       "      <td>Antioquia</td>\n",
       "      <td>5001</td>\n",
       "      <td>Medellín</td>\n",
       "      <td>1410</td>\n",
       "      <td>Confección de prendas de vestir, excepto prend...</td>\n",
       "      <td>Sistema Moda</td>\n",
       "      <td>Bienes tecnología baja</td>\n",
       "      <td>4872620000.00</td>\n",
       "      <td>...</td>\n",
       "      <td>Antioquia</td>\n",
       "      <td>Si</td>\n",
       "      <td>0.00</td>\n",
       "      <td>1214.67</td>\n",
       "      <td>NaN</td>\n",
       "      <td>-100.00</td>\n",
       "      <td>Futuros</td>\n",
       "      <td>Sistema Moda</td>\n",
       "      <td>Exportaciones</td>\n",
       "      <td>3.00</td>\n",
       "    </tr>\n",
       "    <tr>\n",
       "      <th>3</th>\n",
       "      <td>60</td>\n",
       "      <td>11</td>\n",
       "      <td>Bogotá, D.C.</td>\n",
       "      <td>11001</td>\n",
       "      <td>Bogotá, D.C.</td>\n",
       "      <td>2229</td>\n",
       "      <td>Fabricación de artículos de plástico n.c.p.</td>\n",
       "      <td>Químicos y Ciencias de la Vida</td>\n",
       "      <td>Bienes tecnología media-baja</td>\n",
       "      <td>3500499088.00</td>\n",
       "      <td>...</td>\n",
       "      <td>Bogotá, D.C.</td>\n",
       "      <td>Si</td>\n",
       "      <td>0.00</td>\n",
       "      <td>0.00</td>\n",
       "      <td>NaN</td>\n",
       "      <td>NaN</td>\n",
       "      <td>Futuros</td>\n",
       "      <td>Químicos y Ciencias de la Vida</td>\n",
       "      <td>Exportaciones</td>\n",
       "      <td>3.00</td>\n",
       "    </tr>\n",
       "    <tr>\n",
       "      <th>7</th>\n",
       "      <td>182</td>\n",
       "      <td>11</td>\n",
       "      <td>Bogotá, D.C.</td>\n",
       "      <td>11001</td>\n",
       "      <td>Bogotá, D.C.</td>\n",
       "      <td>4659</td>\n",
       "      <td>Comercio al por mayor de otros tipos de maquin...</td>\n",
       "      <td>CIIU no aplica categoría ProColombia</td>\n",
       "      <td>Servicios menos intensivos en conocimiento</td>\n",
       "      <td>23482366000.00</td>\n",
       "      <td>...</td>\n",
       "      <td>Bogotá, D.C.</td>\n",
       "      <td>Si</td>\n",
       "      <td>0.00</td>\n",
       "      <td>0.00</td>\n",
       "      <td>NaN</td>\n",
       "      <td>NaN</td>\n",
       "      <td>Futuros</td>\n",
       "      <td>Metalmecánica y Otras Industrias</td>\n",
       "      <td>Exportaciones</td>\n",
       "      <td>3.00</td>\n",
       "    </tr>\n",
       "    <tr>\n",
       "      <th>8</th>\n",
       "      <td>183</td>\n",
       "      <td>No determinado</td>\n",
       "      <td>No determinado</td>\n",
       "      <td>No determinado</td>\n",
       "      <td>No determinado</td>\n",
       "      <td>No determinado</td>\n",
       "      <td>No determinado</td>\n",
       "      <td>No determinado</td>\n",
       "      <td>No determinado</td>\n",
       "      <td>NaN</td>\n",
       "      <td>...</td>\n",
       "      <td>Bogotá, D.C.</td>\n",
       "      <td>Si</td>\n",
       "      <td>0.00</td>\n",
       "      <td>0.00</td>\n",
       "      <td>NaN</td>\n",
       "      <td>NaN</td>\n",
       "      <td>Futuros</td>\n",
       "      <td>Agroalimentos</td>\n",
       "      <td>Exportaciones</td>\n",
       "      <td>3.00</td>\n",
       "    </tr>\n",
       "  </tbody>\n",
       "</table>\n",
       "<p>5 rows × 32 columns</p>\n",
       "</div>"
      ],
      "text/plain": [
       "   NIT      Cod. Depto    Departamento  Cod. Municipio       Municipio  \\\n",
       "0   10  No determinado  No determinado  No determinado  No determinado   \n",
       "1   45               5       Antioquia            5001        Medellín   \n",
       "3   60              11    Bogotá, D.C.           11001    Bogotá, D.C.   \n",
       "7  182              11    Bogotá, D.C.           11001    Bogotá, D.C.   \n",
       "8  183  No determinado  No determinado  No determinado  No determinado   \n",
       "\n",
       "  CIIU Rev 4 principal                         Descripción CIIU principal  \\\n",
       "0       No determinado                                     No determinado   \n",
       "1                 1410  Confección de prendas de vestir, excepto prend...   \n",
       "3                 2229        Fabricación de artículos de plástico n.c.p.   \n",
       "7                 4659  Comercio al por mayor de otros tipos de maquin...   \n",
       "8       No determinado                                     No determinado   \n",
       "\n",
       "                  Cadena CIIU principal  \\\n",
       "0                        No determinado   \n",
       "1                          Sistema Moda   \n",
       "3        Químicos y Ciencias de la Vida   \n",
       "7  CIIU no aplica categoría ProColombia   \n",
       "8                        No determinado   \n",
       "\n",
       "                       Valor agregado empresa        Activos  ...  \\\n",
       "0                              No determinado            NaN  ...   \n",
       "1                      Bienes tecnología baja  4872620000.00  ...   \n",
       "3                Bienes tecnología media-baja  3500499088.00  ...   \n",
       "7  Servicios menos intensivos en conocimiento 23482366000.00  ...   \n",
       "8                              No determinado            NaN  ...   \n",
       "\n",
       "   Departamento* ult 10 años Expo Latam ult 10 años Expo 2022  \\\n",
       "0                  Atlántico                     Si      0.00   \n",
       "1                  Antioquia                     Si      0.00   \n",
       "3               Bogotá, D.C.                     Si      0.00   \n",
       "7               Bogotá, D.C.                     Si      0.00   \n",
       "8               Bogotá, D.C.                     Si      0.00   \n",
       "\n",
       "  Expo prom ult 5 años  Var. Expo 2022 TCAC expo ult 5 años Trayectoria expo  \\\n",
       "0             22680.00             NaN                  NaN          Futuros   \n",
       "1              1214.67             NaN              -100.00          Futuros   \n",
       "3                 0.00             NaN                  NaN          Futuros   \n",
       "7                 0.00             NaN                  NaN          Futuros   \n",
       "8                 0.00             NaN                  NaN          Futuros   \n",
       "\n",
       "                Cadena segmentación         Fuente Cluster  \n",
       "0                     Agroalimentos  Exportaciones    3.00  \n",
       "1                      Sistema Moda  Exportaciones    3.00  \n",
       "3    Químicos y Ciencias de la Vida  Exportaciones    3.00  \n",
       "7  Metalmecánica y Otras Industrias  Exportaciones    3.00  \n",
       "8                     Agroalimentos  Exportaciones    3.00  \n",
       "\n",
       "[5 rows x 32 columns]"
      ]
     },
     "execution_count": 24,
     "metadata": {},
     "output_type": "execute_result"
    }
   ],
   "source": [
    "df_filtered.head()"
   ]
  },
  {
   "cell_type": "code",
   "execution_count": 25,
   "metadata": {},
   "outputs": [
    {
     "name": "stdout",
     "output_type": "stream",
     "text": [
      "Valores únicos en la columna \"Cadena segmentación\":\n",
      "['Agroalimentos' 'Sistema Moda' 'Químicos y Ciencias de la Vida'\n",
      " 'Metalmecánica y Otras Industrias' 'Industrias 4.0']\n",
      "\n",
      "Valores únicos en la columna \"Trayectoria expo\":\n",
      "['Futuros' 'No Constante' 'Mineras, chatarra, otros' 'Top' 'Pymex']\n",
      "\n",
      "Valores únicos en la columna \"Expo Latam ult 10 años\":\n",
      "['Si']\n",
      "\n",
      "Valores únicos en la columna \"Tipo* ult 10 años\":\n",
      "['No Mineras' 'Mineras']\n",
      "\n",
      "Valores únicos en la columna \"Cadena CIIU principal\":\n",
      "['No determinado' 'Sistema Moda' 'Químicos y Ciencias de la Vida'\n",
      " 'CIIU no aplica categoría ProColombia' 'Industrias 4.0'\n",
      " 'Metalmecánica y Otras Industrias' 'Agroalimentos' 'Infraestructura '\n",
      " 'Logística ' 'Mineras' 'Logística e Infraestructura ']\n",
      "\n",
      "Valores únicos en la columna \"Cluster\":\n",
      "[3.]\n",
      "\n"
     ]
    }
   ],
   "source": [
    "# Ver valores únicos de variables de segmentación\n",
    "columnas = ['Cadena segmentación', 'Trayectoria expo', 'Expo Latam ult 10 años', 'Tipo* ult 10 años', 'Cadena CIIU principal', 'Cluster']\n",
    "\n",
    "for columna in columnas:\n",
    "    valores_unicos = df_filtered[columna].unique()\n",
    "    \n",
    "    print(f'Valores únicos en la columna \"{columna}\":\\n{valores_unicos}\\n')"
   ]
  },
  {
   "cell_type": "code",
   "execution_count": 26,
   "metadata": {},
   "outputs": [],
   "source": [
    "# Exportar resultados a excel\n",
    "df_filtered.to_excel('Resultados\\Clientes Potenciales.xlsx', index=False)"
   ]
  }
 ],
 "metadata": {
  "kernelspec": {
   "display_name": "Python 3 (ipykernel)",
   "language": "python",
   "name": "python3"
  },
  "language_info": {
   "codemirror_mode": {
    "name": "ipython",
    "version": 3
   },
   "file_extension": ".py",
   "mimetype": "text/x-python",
   "name": "python",
   "nbconvert_exporter": "python",
   "pygments_lexer": "ipython3",
   "version": "3.8.18"
  }
 },
 "nbformat": 4,
 "nbformat_minor": 4
}
